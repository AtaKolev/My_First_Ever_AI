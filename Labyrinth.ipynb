{
 "cells": [
  {
   "cell_type": "code",
   "execution_count": 1,
   "id": "eb4b0016",
   "metadata": {},
   "outputs": [],
   "source": [
    "import numpy as np"
   ]
  },
  {
   "cell_type": "markdown",
   "id": "f3f04e73",
   "metadata": {},
   "source": [
    "# Map Generating"
   ]
  },
  {
   "cell_type": "code",
   "execution_count": 2,
   "id": "0bc14415",
   "metadata": {},
   "outputs": [
    {
     "data": {
      "text/plain": [
       "array([ 1,  2,  3,  4,  5,  6,  7,  8,  9, 10])"
      ]
     },
     "execution_count": 2,
     "metadata": {},
     "output_type": "execute_result"
    }
   ],
   "source": [
    "np.arange(1,11)"
   ]
  },
  {
   "cell_type": "code",
   "execution_count": 3,
   "id": "06b4566c",
   "metadata": {},
   "outputs": [],
   "source": [
    "x_y_dict = {'x' : np.arange(0,11),\n",
    "            'y' : np.arange(0, 11)}"
   ]
  },
  {
   "cell_type": "code",
   "execution_count": 4,
   "id": "73c74090",
   "metadata": {},
   "outputs": [
    {
     "data": {
      "text/plain": [
       "['x', 'y']"
      ]
     },
     "execution_count": 4,
     "metadata": {},
     "output_type": "execute_result"
    }
   ],
   "source": [
    "list(x_y_dict.keys())"
   ]
  },
  {
   "cell_type": "code",
   "execution_count": 5,
   "id": "52256dbc",
   "metadata": {},
   "outputs": [],
   "source": [
    "lab_map = []\n",
    "\n",
    "for y in range(len(x_y_dict['y'])-1, -1, -1):\n",
    "    temp = []\n",
    "    for x in range(0, len(x_y_dict['x'])):\n",
    "        temp.append((x, y))\n",
    "    lab_map.append(temp)"
   ]
  },
  {
   "cell_type": "code",
   "execution_count": 6,
   "id": "f081fd40",
   "metadata": {},
   "outputs": [
    {
     "name": "stdout",
     "output_type": "stream",
     "text": [
      "[(0, 10), (1, 10), (2, 10), (3, 10), (4, 10), (5, 10), (6, 10), (7, 10), (8, 10), (9, 10), (10, 10)]\n",
      "[(0, 9), (1, 9), (2, 9), (3, 9), (4, 9), (5, 9), (6, 9), (7, 9), (8, 9), (9, 9), (10, 9)]\n",
      "[(0, 8), (1, 8), (2, 8), (3, 8), (4, 8), (5, 8), (6, 8), (7, 8), (8, 8), (9, 8), (10, 8)]\n",
      "[(0, 7), (1, 7), (2, 7), (3, 7), (4, 7), (5, 7), (6, 7), (7, 7), (8, 7), (9, 7), (10, 7)]\n",
      "[(0, 6), (1, 6), (2, 6), (3, 6), (4, 6), (5, 6), (6, 6), (7, 6), (8, 6), (9, 6), (10, 6)]\n",
      "[(0, 5), (1, 5), (2, 5), (3, 5), (4, 5), (5, 5), (6, 5), (7, 5), (8, 5), (9, 5), (10, 5)]\n",
      "[(0, 4), (1, 4), (2, 4), (3, 4), (4, 4), (5, 4), (6, 4), (7, 4), (8, 4), (9, 4), (10, 4)]\n",
      "[(0, 3), (1, 3), (2, 3), (3, 3), (4, 3), (5, 3), (6, 3), (7, 3), (8, 3), (9, 3), (10, 3)]\n",
      "[(0, 2), (1, 2), (2, 2), (3, 2), (4, 2), (5, 2), (6, 2), (7, 2), (8, 2), (9, 2), (10, 2)]\n",
      "[(0, 1), (1, 1), (2, 1), (3, 1), (4, 1), (5, 1), (6, 1), (7, 1), (8, 1), (9, 1), (10, 1)]\n",
      "[(0, 0), (1, 0), (2, 0), (3, 0), (4, 0), (5, 0), (6, 0), (7, 0), (8, 0), (9, 0), (10, 0)]\n"
     ]
    }
   ],
   "source": [
    "for row in lab_map:\n",
    "    print(row)"
   ]
  },
  {
   "cell_type": "code",
   "execution_count": 7,
   "id": "8f7dfb09",
   "metadata": {},
   "outputs": [],
   "source": [
    "lab_map_disp = []\n",
    "\n",
    "for y in range(len(x_y_dict['y'])-1, -1, -1):\n",
    "    temp = []\n",
    "    for x in range(0, len(x_y_dict['x'])):\n",
    "        if x == 0 and (y in np.arange(0, 10)):\n",
    "            if x == 0 and y == 1:\n",
    "                temp.append('O') # Entry point of the agent\n",
    "            else:\n",
    "                temp.append('|')\n",
    "        elif x == 10 and (y in np.arange(0, 10)):\n",
    "            temp.append('|')\n",
    "        elif y == 0 and (x in np.arange(0, 11)):\n",
    "            temp.append('-')\n",
    "        elif y == 10 and (x in np.arange(0, 11)):\n",
    "            temp.append('-')\n",
    "        elif x == 2 and (y in np.arange(1, 9)):\n",
    "            temp.append('|')\n",
    "        elif (x in np.arange(3, 6)) and y == 8:\n",
    "            temp.append('-')\n",
    "        elif x == 5 and (y in np.arange(2, 9)):\n",
    "            temp.append('|')\n",
    "        elif x == 4 and y == 2:\n",
    "            temp.append('L')\n",
    "        elif x == 4 and (y in np.arange(3, 9)):\n",
    "            temp.append('|')\n",
    "        elif (x == 3 and y == 7) or (x == 9 and y == 9):\n",
    "            temp.append('S')\n",
    "        elif (x in np.arange(7, 10) and y == 8):\n",
    "            temp.append('-')\n",
    "        elif x == 7 and (y in np.arange(2, 8)):\n",
    "            temp.append('|')\n",
    "        elif x == 8 and y == 2:\n",
    "            temp.append('⅃')\n",
    "        elif x == 8 and (y in np.arange(3, 8)):\n",
    "            temp.append('|')\n",
    "        elif x == 9 and y == 7:\n",
    "            temp.append('R')\n",
    "        else:\n",
    "            temp.append(' ')\n",
    "    lab_map_disp.append(temp)"
   ]
  },
  {
   "cell_type": "code",
   "execution_count": 8,
   "id": "df2cd04c",
   "metadata": {},
   "outputs": [
    {
     "name": "stdout",
     "output_type": "stream",
     "text": [
      "['-', '-', '-', '-', '-', '-', '-', '-', '-', '-', '-']\n",
      "['|', ' ', ' ', ' ', ' ', ' ', ' ', ' ', ' ', 'S', '|']\n",
      "['|', ' ', '|', '-', '-', '-', ' ', '-', '-', '-', '|']\n",
      "['|', ' ', '|', 'S', '|', '|', ' ', '|', '|', 'R', '|']\n",
      "['|', ' ', '|', ' ', '|', '|', ' ', '|', '|', ' ', '|']\n",
      "['|', ' ', '|', ' ', '|', '|', ' ', '|', '|', ' ', '|']\n",
      "['|', ' ', '|', ' ', '|', '|', ' ', '|', '|', ' ', '|']\n",
      "['|', ' ', '|', ' ', '|', '|', ' ', '|', '|', ' ', '|']\n",
      "['|', ' ', '|', ' ', 'L', '|', ' ', '|', '⅃', ' ', '|']\n",
      "['O', ' ', '|', ' ', ' ', ' ', ' ', ' ', ' ', ' ', '|']\n",
      "['|', '-', '-', '-', '-', '-', '-', '-', '-', '-', '|']\n"
     ]
    }
   ],
   "source": [
    "for row in lab_map_disp:\n",
    "    print(row)"
   ]
  },
  {
   "cell_type": "code",
   "execution_count": 9,
   "id": "c16878ca",
   "metadata": {},
   "outputs": [],
   "source": [
    "new_map = []\n",
    "\n",
    "for row in lab_map_disp:\n",
    "    new_temp = ''.join(row)\n",
    "    new_map.append(new_temp)"
   ]
  },
  {
   "cell_type": "code",
   "execution_count": 10,
   "id": "384c6cfa",
   "metadata": {},
   "outputs": [
    {
     "data": {
      "text/plain": [
       "['-----------',\n",
       " '|        S|',\n",
       " '| |--- ---|',\n",
       " '| |S|| ||R|',\n",
       " '| | || || |',\n",
       " '| | || || |',\n",
       " '| | || || |',\n",
       " '| | || || |',\n",
       " '| | L| |⅃ |',\n",
       " 'O |       |',\n",
       " '|---------|']"
      ]
     },
     "execution_count": 10,
     "metadata": {},
     "output_type": "execute_result"
    }
   ],
   "source": [
    "new_map"
   ]
  },
  {
   "cell_type": "code",
   "execution_count": 11,
   "id": "9e204ffa",
   "metadata": {},
   "outputs": [
    {
     "name": "stdout",
     "output_type": "stream",
     "text": [
      "[(0, 10), (1, 10), (2, 10), (3, 10), (4, 10), (5, 10), (6, 10), (7, 10), (8, 10), (9, 10), (10, 10)]\n",
      "[(0, 9), (1, 9), (2, 9), (3, 9), (4, 9), (5, 9), (6, 9), (7, 9), (8, 9), (9, 9), (10, 9)]\n",
      "[(0, 8), (1, 8), (2, 8), (3, 8), (4, 8), (5, 8), (6, 8), (7, 8), (8, 8), (9, 8), (10, 8)]\n",
      "[(0, 7), (1, 7), (2, 7), (3, 7), (4, 7), (5, 7), (6, 7), (7, 7), (8, 7), (9, 7), (10, 7)]\n",
      "[(0, 6), (1, 6), (2, 6), (3, 6), (4, 6), (5, 6), (6, 6), (7, 6), (8, 6), (9, 6), (10, 6)]\n",
      "[(0, 5), (1, 5), (2, 5), (3, 5), (4, 5), (5, 5), (6, 5), (7, 5), (8, 5), (9, 5), (10, 5)]\n",
      "[(0, 4), (1, 4), (2, 4), (3, 4), (4, 4), (5, 4), (6, 4), (7, 4), (8, 4), (9, 4), (10, 4)]\n",
      "[(0, 3), (1, 3), (2, 3), (3, 3), (4, 3), (5, 3), (6, 3), (7, 3), (8, 3), (9, 3), (10, 3)]\n",
      "[(0, 2), (1, 2), (2, 2), (3, 2), (4, 2), (5, 2), (6, 2), (7, 2), (8, 2), (9, 2), (10, 2)]\n",
      "[(0, 1), (1, 1), (2, 1), (3, 1), (4, 1), (5, 1), (6, 1), (7, 1), (8, 1), (9, 1), (10, 1)]\n",
      "[(0, 0), (1, 0), (2, 0), (3, 0), (4, 0), (5, 0), (6, 0), (7, 0), (8, 0), (9, 0), (10, 0)]\n"
     ]
    }
   ],
   "source": [
    "for row in lab_map:\n",
    "    print(row)"
   ]
  },
  {
   "cell_type": "code",
   "execution_count": 12,
   "id": "0518bd25",
   "metadata": {},
   "outputs": [
    {
     "name": "stdout",
     "output_type": "stream",
     "text": [
      "['-', '-', '-', '-', '-', '-', '-', '-', '-', '-', '-']\n",
      "['|', ' ', ' ', ' ', ' ', ' ', ' ', ' ', ' ', 'S', '|']\n",
      "['|', ' ', '|', '-', '-', '-', ' ', '-', '-', '-', '|']\n",
      "['|', ' ', '|', 'S', '|', '|', ' ', '|', '|', 'R', '|']\n",
      "['|', ' ', '|', ' ', '|', '|', ' ', '|', '|', ' ', '|']\n",
      "['|', ' ', '|', ' ', '|', '|', ' ', '|', '|', ' ', '|']\n",
      "['|', ' ', '|', ' ', '|', '|', ' ', '|', '|', ' ', '|']\n",
      "['|', ' ', '|', ' ', '|', '|', ' ', '|', '|', ' ', '|']\n",
      "['|', ' ', '|', ' ', 'L', '|', ' ', '|', '⅃', ' ', '|']\n",
      "['O', ' ', '|', ' ', ' ', ' ', ' ', ' ', ' ', ' ', '|']\n",
      "['|', '-', '-', '-', '-', '-', '-', '-', '-', '-', '|']\n"
     ]
    }
   ],
   "source": [
    "for row in lab_map_disp:\n",
    "    print(row)"
   ]
  },
  {
   "cell_type": "code",
   "execution_count": 13,
   "id": "1b85b197",
   "metadata": {},
   "outputs": [],
   "source": [
    "entry_point = (9, 0)\n",
    "\n",
    "lab_map_disp[entry_point[0]][entry_point[1]] = 'O'"
   ]
  },
  {
   "cell_type": "markdown",
   "id": "6a990733",
   "metadata": {},
   "source": [
    "# Agent Class"
   ]
  },
  {
   "cell_type": "code",
   "execution_count": 70,
   "id": "c1830b4e",
   "metadata": {},
   "outputs": [],
   "source": [
    "class Agent:\n",
    "    \n",
    "    def __init__(self, starting_state):\n",
    "        self.state = starting_state\n",
    "        self.prev_state = None\n",
    "    \n",
    "    def possible_direction(self):\n",
    "        \n",
    "        forbidden_elements = ['|', '-', 'L', '⅃']\n",
    "        good_coordinates = []\n",
    "        \n",
    "        for coord in self.surrounding:\n",
    "            \n",
    "            neg_flag = 0\n",
    "            \n",
    "            for num in coord:\n",
    "                if num < 0:\n",
    "                    neg_flag = 1\n",
    "            \n",
    "            if neg_flag == 1:\n",
    "                continue\n",
    "            \n",
    "            if lab_map_disp[coord[0]][coord[1]] not in forbidden_elements:\n",
    "                good_coordinates.append(coord)\n",
    "            else:\n",
    "                pass\n",
    "        \n",
    "        return good_coordinates\n",
    "    \n",
    "    def move(self):\n",
    "        \n",
    "        possible_elements = self.possible_direction()\n",
    "        \n",
    "        if len(possible_elements) > 1:\n",
    "            return np.random.choice(possible_elements)\n",
    "        else:\n",
    "            print(possible_elements)\n",
    "            return possible_elements[0]\n",
    "\n",
    "    def state_editor(self, surrounding):\n",
    "        \n",
    "        self.surrounding = surrounding\n",
    "        self.prev_state = self.state\n",
    "        self.state = self.move()"
   ]
  },
  {
   "cell_type": "code",
   "execution_count": 71,
   "id": "b9fd0752",
   "metadata": {},
   "outputs": [
    {
     "name": "stdout",
     "output_type": "stream",
     "text": [
      "['-', '-', '-', '-', '-', '-', '-', '-', '-', '-', '-']\n",
      "['|', ' ', ' ', ' ', ' ', ' ', ' ', ' ', ' ', 'S', '|']\n",
      "['|', ' ', '|', '-', '-', '-', ' ', '-', '-', '-', '|']\n",
      "['|', ' ', '|', 'S', '|', '|', ' ', '|', '|', 'R', '|']\n",
      "['|', ' ', '|', ' ', '|', '|', ' ', '|', '|', ' ', '|']\n",
      "['|', ' ', '|', ' ', '|', '|', ' ', '|', '|', ' ', '|']\n",
      "['|', ' ', '|', ' ', '|', '|', ' ', '|', '|', ' ', '|']\n",
      "['|', ' ', '|', ' ', '|', '|', ' ', '|', '|', ' ', '|']\n",
      "['|', ' ', '|', ' ', 'L', '|', ' ', '|', '⅃', ' ', '|']\n",
      "['O', ' ', '|', ' ', ' ', ' ', ' ', ' ', ' ', ' ', '|']\n",
      "['|', '-', '-', '-', '-', '-', '-', '-', '-', '-', '|']\n"
     ]
    }
   ],
   "source": [
    "for row in lab_map_disp:\n",
    "    print(row)"
   ]
  },
  {
   "cell_type": "code",
   "execution_count": 72,
   "id": "83b0a10e",
   "metadata": {},
   "outputs": [
    {
     "data": {
      "text/plain": [
       "0"
      ]
     },
     "execution_count": 72,
     "metadata": {},
     "output_type": "execute_result"
    }
   ],
   "source": [
    "lab_map_disp[9].index('O')"
   ]
  },
  {
   "cell_type": "code",
   "execution_count": 73,
   "id": "057b1224",
   "metadata": {},
   "outputs": [],
   "source": [
    "current_state = None\n",
    "\n",
    "for row in lab_map_disp:\n",
    "    \n",
    "    if 'O' in row:\n",
    "        current_state = (lab_map_disp.index(row), row.index('O')) "
   ]
  },
  {
   "cell_type": "code",
   "execution_count": 74,
   "id": "e2c9d841",
   "metadata": {},
   "outputs": [
    {
     "data": {
      "text/plain": [
       "(9, 0)"
      ]
     },
     "execution_count": 74,
     "metadata": {},
     "output_type": "execute_result"
    }
   ],
   "source": [
    "current_state"
   ]
  },
  {
   "cell_type": "code",
   "execution_count": 75,
   "id": "6d3dbc37",
   "metadata": {},
   "outputs": [],
   "source": [
    "agent = Agent(current_state)"
   ]
  },
  {
   "cell_type": "code",
   "execution_count": 76,
   "id": "bc054316",
   "metadata": {},
   "outputs": [],
   "source": [
    "surrounding = [(current_state[0]+1, current_state[1]), #to the right\n",
    "              (current_state[0]-1, current_state[1]), #to the left\n",
    "              (current_state[0]+1, current_state[1]+1), #up\n",
    "              (current_state[0]+1, current_state[1]-1)] #down"
   ]
  },
  {
   "cell_type": "code",
   "execution_count": 77,
   "id": "01cfe88e",
   "metadata": {},
   "outputs": [
    {
     "name": "stdout",
     "output_type": "stream",
     "text": [
      "[]\n"
     ]
    },
    {
     "ename": "IndexError",
     "evalue": "list index out of range",
     "output_type": "error",
     "traceback": [
      "\u001b[1;31m---------------------------------------------------------------------------\u001b[0m",
      "\u001b[1;31mIndexError\u001b[0m                                Traceback (most recent call last)",
      "\u001b[1;32m<ipython-input-77-2f0b9a6402a2>\u001b[0m in \u001b[0;36m<module>\u001b[1;34m\u001b[0m\n\u001b[0;32m      6\u001b[0m                    (agent.state[0]+1, agent.state[1]-1)] #down\n\u001b[0;32m      7\u001b[0m \u001b[1;33m\u001b[0m\u001b[0m\n\u001b[1;32m----> 8\u001b[1;33m     \u001b[0magent\u001b[0m\u001b[1;33m.\u001b[0m\u001b[0mstate_editor\u001b[0m\u001b[1;33m(\u001b[0m\u001b[0msurrounding\u001b[0m\u001b[1;33m)\u001b[0m\u001b[1;33m\u001b[0m\u001b[1;33m\u001b[0m\u001b[0m\n\u001b[0m\u001b[0;32m      9\u001b[0m \u001b[1;33m\u001b[0m\u001b[0m\n\u001b[0;32m     10\u001b[0m     \u001b[0mlab_map_display\u001b[0m\u001b[1;33m[\u001b[0m\u001b[0magent\u001b[0m\u001b[1;33m.\u001b[0m\u001b[0mprev_state\u001b[0m\u001b[1;33m[\u001b[0m\u001b[1;36m0\u001b[0m\u001b[1;33m]\u001b[0m\u001b[1;33m]\u001b[0m\u001b[1;33m[\u001b[0m\u001b[0magent\u001b[0m\u001b[1;33m.\u001b[0m\u001b[0mprev_state\u001b[0m\u001b[1;33m[\u001b[0m\u001b[1;36m1\u001b[0m\u001b[1;33m]\u001b[0m\u001b[1;33m]\u001b[0m \u001b[1;33m=\u001b[0m \u001b[1;34m'1'\u001b[0m\u001b[1;33m\u001b[0m\u001b[1;33m\u001b[0m\u001b[0m\n",
      "\u001b[1;32m<ipython-input-70-d3fba01c6459>\u001b[0m in \u001b[0;36mstate_editor\u001b[1;34m(self, surrounding)\u001b[0m\n\u001b[0;32m     42\u001b[0m         \u001b[0mself\u001b[0m\u001b[1;33m.\u001b[0m\u001b[0msurrounding\u001b[0m \u001b[1;33m=\u001b[0m \u001b[0msurrounding\u001b[0m\u001b[1;33m\u001b[0m\u001b[1;33m\u001b[0m\u001b[0m\n\u001b[0;32m     43\u001b[0m         \u001b[0mself\u001b[0m\u001b[1;33m.\u001b[0m\u001b[0mprev_state\u001b[0m \u001b[1;33m=\u001b[0m \u001b[0mself\u001b[0m\u001b[1;33m.\u001b[0m\u001b[0mstate\u001b[0m\u001b[1;33m\u001b[0m\u001b[1;33m\u001b[0m\u001b[0m\n\u001b[1;32m---> 44\u001b[1;33m         \u001b[0mself\u001b[0m\u001b[1;33m.\u001b[0m\u001b[0mstate\u001b[0m \u001b[1;33m=\u001b[0m \u001b[0mself\u001b[0m\u001b[1;33m.\u001b[0m\u001b[0mmove\u001b[0m\u001b[1;33m(\u001b[0m\u001b[1;33m)\u001b[0m\u001b[1;33m\u001b[0m\u001b[1;33m\u001b[0m\u001b[0m\n\u001b[0m",
      "\u001b[1;32m<ipython-input-70-d3fba01c6459>\u001b[0m in \u001b[0;36mmove\u001b[1;34m(self)\u001b[0m\n\u001b[0;32m     36\u001b[0m         \u001b[1;32melse\u001b[0m\u001b[1;33m:\u001b[0m\u001b[1;33m\u001b[0m\u001b[1;33m\u001b[0m\u001b[0m\n\u001b[0;32m     37\u001b[0m             \u001b[0mprint\u001b[0m\u001b[1;33m(\u001b[0m\u001b[0mpossible_elements\u001b[0m\u001b[1;33m)\u001b[0m\u001b[1;33m\u001b[0m\u001b[1;33m\u001b[0m\u001b[0m\n\u001b[1;32m---> 38\u001b[1;33m             \u001b[1;32mreturn\u001b[0m \u001b[0mpossible_elements\u001b[0m\u001b[1;33m[\u001b[0m\u001b[1;36m0\u001b[0m\u001b[1;33m]\u001b[0m\u001b[1;33m\u001b[0m\u001b[1;33m\u001b[0m\u001b[0m\n\u001b[0m\u001b[0;32m     39\u001b[0m \u001b[1;33m\u001b[0m\u001b[0m\n\u001b[0;32m     40\u001b[0m     \u001b[1;32mdef\u001b[0m \u001b[0mstate_editor\u001b[0m\u001b[1;33m(\u001b[0m\u001b[0mself\u001b[0m\u001b[1;33m,\u001b[0m \u001b[0msurrounding\u001b[0m\u001b[1;33m)\u001b[0m\u001b[1;33m:\u001b[0m\u001b[1;33m\u001b[0m\u001b[1;33m\u001b[0m\u001b[0m\n",
      "\u001b[1;31mIndexError\u001b[0m: list index out of range"
     ]
    }
   ],
   "source": [
    "while True:\n",
    "    \n",
    "    surrounding = [(agent.state[0]+1, agent.state[1]), #to the right\n",
    "                   (agent.state[0]-1, agent.state[1]), #to the left\n",
    "                   (agent.state[0]+1, agent.state[1]+1), #up\n",
    "                   (agent.state[0]+1, agent.state[1]-1)] #down\n",
    "    \n",
    "    agent.state_editor(surrounding)\n",
    "    \n",
    "    lab_map_display[agent.prev_state[0]][agent.prev_state[1]] = '1'\n",
    "    lab_map_display[agent.state[0]][agent.state[1]] = 'O'\n",
    "    \n",
    "    if lab_map_display[agent.state[0]][agent.state[1]] == 'S':\n",
    "        print('YOU LOSE')\n",
    "        for row in lab_map_disp:\n",
    "            print(row)\n",
    "        break\n",
    "    elif lab_map_display[agent.state[0]][agent.state[1]] == 'R':\n",
    "        print('YOU WIN')\n",
    "        for row in lab_map_disp:\n",
    "            print(row)\n",
    "        break\n",
    "    else:\n",
    "        for row in lab_map_disp:\n",
    "            print(row)\n",
    "        continue"
   ]
  },
  {
   "cell_type": "code",
   "execution_count": null,
   "id": "f573a9b4",
   "metadata": {},
   "outputs": [],
   "source": []
  },
  {
   "cell_type": "code",
   "execution_count": null,
   "id": "1ec5de64",
   "metadata": {},
   "outputs": [],
   "source": []
  },
  {
   "cell_type": "code",
   "execution_count": null,
   "id": "64d7e0a2",
   "metadata": {},
   "outputs": [],
   "source": []
  },
  {
   "cell_type": "code",
   "execution_count": null,
   "id": "c0d15c94",
   "metadata": {},
   "outputs": [],
   "source": []
  },
  {
   "cell_type": "code",
   "execution_count": null,
   "id": "555c92ed",
   "metadata": {},
   "outputs": [],
   "source": []
  },
  {
   "cell_type": "code",
   "execution_count": null,
   "id": "5c532386",
   "metadata": {},
   "outputs": [],
   "source": []
  },
  {
   "cell_type": "code",
   "execution_count": null,
   "id": "37d25c48",
   "metadata": {},
   "outputs": [],
   "source": []
  },
  {
   "cell_type": "code",
   "execution_count": null,
   "id": "32b69dbb",
   "metadata": {},
   "outputs": [],
   "source": []
  },
  {
   "cell_type": "code",
   "execution_count": null,
   "id": "86f2925a",
   "metadata": {},
   "outputs": [],
   "source": []
  },
  {
   "cell_type": "code",
   "execution_count": null,
   "id": "894a658d",
   "metadata": {},
   "outputs": [],
   "source": []
  },
  {
   "cell_type": "code",
   "execution_count": null,
   "id": "0eea4a91",
   "metadata": {},
   "outputs": [],
   "source": []
  },
  {
   "cell_type": "code",
   "execution_count": null,
   "id": "ac5e0656",
   "metadata": {},
   "outputs": [],
   "source": []
  },
  {
   "cell_type": "code",
   "execution_count": null,
   "id": "01931dc4",
   "metadata": {},
   "outputs": [],
   "source": []
  },
  {
   "cell_type": "code",
   "execution_count": null,
   "id": "479cb90c",
   "metadata": {},
   "outputs": [],
   "source": []
  },
  {
   "cell_type": "code",
   "execution_count": null,
   "id": "974fa6b7",
   "metadata": {},
   "outputs": [],
   "source": []
  }
 ],
 "metadata": {
  "kernelspec": {
   "display_name": "Python 3",
   "language": "python",
   "name": "python3"
  },
  "language_info": {
   "codemirror_mode": {
    "name": "ipython",
    "version": 3
   },
   "file_extension": ".py",
   "mimetype": "text/x-python",
   "name": "python",
   "nbconvert_exporter": "python",
   "pygments_lexer": "ipython3",
   "version": "3.8.3"
  }
 },
 "nbformat": 4,
 "nbformat_minor": 5
}
